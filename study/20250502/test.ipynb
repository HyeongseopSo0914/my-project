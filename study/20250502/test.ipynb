{
 "cells": [
  {
   "cell_type": "markdown",
   "id": "ec00e084",
   "metadata": {},
   "source": [
    "목표: 자기가 생각하는 주제로 youtube의 댓글들을 가져와서\n",
    "https://word2vec.kr/search/ 사이트와 결과 비슷하게 Word2vec 모델 문법 찾기"
   ]
  },
  {
   "cell_type": "code",
   "execution_count": null,
   "id": "65dd883a",
   "metadata": {},
   "outputs": [],
   "source": [
    "import flask\n"
   ]
  }
 ],
 "metadata": {
  "kernelspec": {
   "display_name": "dacon",
   "language": "python",
   "name": "python3"
  },
  "language_info": {
   "name": "python",
   "version": "3.11.11"
  }
 },
 "nbformat": 4,
 "nbformat_minor": 5
}
