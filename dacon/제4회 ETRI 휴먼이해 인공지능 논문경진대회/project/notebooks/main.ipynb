{
 "cells": [
  {
   "cell_type": "code",
   "execution_count": null,
   "id": "ddfbb08c",
   "metadata": {},
   "outputs": [
    {
     "name": "stdout",
     "output_type": "stream",
     "text": [
      "총 parquet 파일 수: 12\n",
      "[1/12] 로딩 중: mACStatus\n",
      "✅ mACStatus shape: (939896, 3)\n",
      "[2/12] 로딩 중: mActivity\n",
      "✅ mActivity shape: (961062, 3)\n",
      "[3/12] 로딩 중: mAmbience\n",
      "✅ mAmbience shape: (476577, 3)\n",
      "[4/12] 로딩 중: mBle\n",
      "✅ mBle shape: (21830, 3)\n",
      "[5/12] 로딩 중: mGps\n",
      "✅ mGps shape: (800611, 3)\n",
      "[6/12] 로딩 중: mLight\n",
      "✅ mLight shape: (96258, 3)\n",
      "[7/12] 로딩 중: mScreenStatus\n",
      "✅ mScreenStatus shape: (939653, 3)\n",
      "[8/12] 로딩 중: mUsageStats\n",
      "✅ mUsageStats shape: (45197, 3)\n",
      "[9/12] 로딩 중: mWifi\n",
      "✅ mWifi shape: (76336, 3)\n",
      "[10/12] 로딩 중: wHr\n",
      "✅ wHr shape: (382918, 3)\n",
      "[11/12] 로딩 중: wLight\n",
      "✅ wLight shape: (633741, 3)\n",
      "[12/12] 로딩 중: wPedo\n",
      "✅ wPedo shape: (748100, 9)\n",
      "✅ 전체 처리 완료\n"
     ]
    }
   ],
   "source": [
    "import os\n",
    "import glob\n",
    "import pandas as pd\n",
    "\n",
    "BASE_PATH = 'data/ETRI/ETRI_lifelog_dataset/ch2025_data_items'\n",
    "SAVE_CSV = False  # True로 설정하면 CSV 저장됨\n",
    "SAVE_DIR = 'analysis_results'\n",
    "\n",
    "# 📂 parquet 파일 목록 확인\n",
    "parquet_files = glob.glob(os.path.join(BASE_PATH, 'ch2025_*.parquet'))\n",
    "print(f\"총 parquet 파일 수: {len(parquet_files)}\")\n",
    "\n",
    "lifelog_data = {}\n",
    "\n",
    "for i, file_path in enumerate(parquet_files):\n",
    "    key = os.path.basename(file_path).replace('.parquet', '').replace('ch2025_', '')\n",
    "    print(f\"[{i+1}/{len(parquet_files)}] 로딩 중: {key}\")\n",
    "    \n",
    "    try:\n",
    "        df = pd.read_parquet(file_path)\n",
    "        lifelog_data[key] = df\n",
    "        print(f\"✅ {key} shape: {df.shape}\")\n",
    "    except Exception as e:\n",
    "        print(f\"❌ {key} 에러 발생: {e}\")\n",
    "\n",
    "print(\"✅ 전체 처리 완료\")"
   ]
  },
  {
   "cell_type": "code",
   "execution_count": 9,
   "id": "bf21fca5",
   "metadata": {},
   "outputs": [
    {
     "ename": "",
     "evalue": "",
     "output_type": "error",
     "traceback": [
      "\u001b[1;31m코드를 실행할 수 없습니다. 세션이 삭제되었습니다. 커널을 다시 시작해 보세요."
     ]
    },
    {
     "ename": "",
     "evalue": "",
     "output_type": "error",
     "traceback": [
      "\u001b[1;31m코드를 실행할 수 없습니다. 세션이 삭제되었습니다. 커널을 다시 시작해 보세요. \n",
      "\u001b[1;31m자세한 내용은 Jupyter <a href='command:jupyter.viewOutput'>로그</a>를 참조하세요."
     ]
    }
   ],
   "source": [
    "df.describe(include='all')\n",
    "df.nunique()"
   ]
  },
  {
   "cell_type": "code",
   "execution_count": 8,
   "id": "450400ce",
   "metadata": {},
   "outputs": [
    {
     "name": "stdout",
     "output_type": "stream",
     "text": [
      "<class 'pandas.core.frame.DataFrame'>\n",
      "RangeIndex: 476577 entries, 0 to 476576\n",
      "Data columns (total 3 columns):\n",
      " #   Column      Non-Null Count   Dtype         \n",
      "---  ------      --------------   -----         \n",
      " 0   subject_id  476577 non-null  object        \n",
      " 1   timestamp   476577 non-null  datetime64[ns]\n",
      " 2   m_ambience  476577 non-null  object        \n",
      "dtypes: datetime64[ns](1), object(2)\n",
      "memory usage: 10.9+ MB\n"
     ]
    },
    {
     "data": {
      "application/vnd.microsoft.datawrangler.viewer.v0+json": {
       "columns": [
        {
         "name": "index",
         "rawType": "int64",
         "type": "integer"
        },
        {
         "name": "subject_id",
         "rawType": "object",
         "type": "string"
        },
        {
         "name": "timestamp",
         "rawType": "datetime64[ns]",
         "type": "datetime"
        },
        {
         "name": "m_ambience",
         "rawType": "object",
         "type": "unknown"
        }
       ],
       "conversionMethod": "pd.DataFrame",
       "ref": "a1145c48-4083-4256-9afb-9cb3a7e3b282",
       "rows": [
        [
         "0",
         "id01",
         "2024-06-26 13:00:10",
         "[array(['Music', '0.30902618'], dtype=object)\n array(['Vehicle', '0.081680894'], dtype=object)\n array(['Motor vehicle (road)', '0.04035286'], dtype=object)\n array(['Outside, urban or manmade', '0.037144363'], dtype=object)\n array(['Outside, rural or natural', '0.032663062'], dtype=object)\n array(['Car', '0.03199804'], dtype=object)\n array(['Speech', '0.029806137'], dtype=object)\n array(['Inside, large room or hall', '0.01684492'], dtype=object)\n array(['Truck', '0.016206821'], dtype=object)\n array(['Sound effect', '0.01591479'], dtype=object)]"
        ],
        [
         "1",
         "id01",
         "2024-06-26 13:02:10",
         "[array(['Music', '0.62307084'], dtype=object)\n array(['Vehicle', '0.021118319'], dtype=object)\n array(['Bell', '0.018510727'], dtype=object)\n array(['Hiss', '0.013137147'], dtype=object)\n array(['Jingle bell', '0.012887808'], dtype=object)\n array(['Chime', '0.012369333'], dtype=object)\n array(['Car', '0.011385'], dtype=object)\n array(['Motor vehicle (road)', '0.0107314605'], dtype=object)\n array(['Bicycle', '0.010630278'], dtype=object)\n array(['Chink, clink', '0.010412726'], dtype=object)]"
        ],
        [
         "2",
         "id01",
         "2024-06-26 13:04:10",
         "[array(['Horse', '0.25209898'], dtype=object)\n array(['Animal', '0.24263993'], dtype=object)\n array(['Clip-clop', '0.24169719'], dtype=object)\n array(['Outside, rural or natural', '0.20218423'], dtype=object)\n array(['Livestock, farm animals, working animals', '0.15339553'],\n       dtype=object)\n array(['Rustling leaves', '0.09363359'], dtype=object)\n array(['Wind', '0.07172977'], dtype=object)\n array(['Wild animals', '0.06615251'], dtype=object)\n array(['Snake', '0.0627117'], dtype=object)\n array(['Bicycle', '0.05555296'], dtype=object)]"
        ],
        [
         "3",
         "id01",
         "2024-06-26 13:06:10",
         "[array(['Speech', '0.93433166'], dtype=object)\n array(['Inside, large room or hall', '0.041821606'], dtype=object)\n array(['Narration, monologue', '0.015862875'], dtype=object)\n array(['Inside, public space', '0.0069918185'], dtype=object)\n array(['Conversation', '0.004214324'], dtype=object)\n array(['Music', '0.0014499724'], dtype=object)\n array(['Door', '0.0013527935'], dtype=object)\n array(['Crowd', '0.0010621995'], dtype=object)\n array(['Clip-clop', '8.6553075E-4'], dtype=object)\n array(['Tap', '8.336997E-4'], dtype=object)]"
        ],
        [
         "4",
         "id01",
         "2024-06-26 13:08:10",
         "[array(['Speech', '0.8935082'], dtype=object)\n array(['Inside, small room', '0.019385122'], dtype=object)\n array(['Inside, large room or hall', '0.01352074'], dtype=object)\n array(['Conversation', '0.0076918676'], dtype=object)\n array(['Outside, urban or manmade', '0.005634144'], dtype=object)\n array(['Outside, rural or natural', '0.005461581'], dtype=object)\n array(['Narration, monologue', '0.0052098036'], dtype=object)\n array(['Inside, public space', '0.003650546'], dtype=object)\n array(['Animal', '0.0031810105'], dtype=object)\n array(['Child speech, kid speaking', '0.002692297'], dtype=object)]"
        ]
       ],
       "shape": {
        "columns": 3,
        "rows": 5
       }
      },
      "text/html": [
       "<div>\n",
       "<style scoped>\n",
       "    .dataframe tbody tr th:only-of-type {\n",
       "        vertical-align: middle;\n",
       "    }\n",
       "\n",
       "    .dataframe tbody tr th {\n",
       "        vertical-align: top;\n",
       "    }\n",
       "\n",
       "    .dataframe thead th {\n",
       "        text-align: right;\n",
       "    }\n",
       "</style>\n",
       "<table border=\"1\" class=\"dataframe\">\n",
       "  <thead>\n",
       "    <tr style=\"text-align: right;\">\n",
       "      <th></th>\n",
       "      <th>subject_id</th>\n",
       "      <th>timestamp</th>\n",
       "      <th>m_ambience</th>\n",
       "    </tr>\n",
       "  </thead>\n",
       "  <tbody>\n",
       "    <tr>\n",
       "      <th>0</th>\n",
       "      <td>id01</td>\n",
       "      <td>2024-06-26 13:00:10</td>\n",
       "      <td>[[Music, 0.30902618], [Vehicle, 0.081680894], ...</td>\n",
       "    </tr>\n",
       "    <tr>\n",
       "      <th>1</th>\n",
       "      <td>id01</td>\n",
       "      <td>2024-06-26 13:02:10</td>\n",
       "      <td>[[Music, 0.62307084], [Vehicle, 0.021118319], ...</td>\n",
       "    </tr>\n",
       "    <tr>\n",
       "      <th>2</th>\n",
       "      <td>id01</td>\n",
       "      <td>2024-06-26 13:04:10</td>\n",
       "      <td>[[Horse, 0.25209898], [Animal, 0.24263993], [C...</td>\n",
       "    </tr>\n",
       "    <tr>\n",
       "      <th>3</th>\n",
       "      <td>id01</td>\n",
       "      <td>2024-06-26 13:06:10</td>\n",
       "      <td>[[Speech, 0.93433166], [Inside, large room or ...</td>\n",
       "    </tr>\n",
       "    <tr>\n",
       "      <th>4</th>\n",
       "      <td>id01</td>\n",
       "      <td>2024-06-26 13:08:10</td>\n",
       "      <td>[[Speech, 0.8935082], [Inside, small room, 0.0...</td>\n",
       "    </tr>\n",
       "  </tbody>\n",
       "</table>\n",
       "</div>"
      ],
      "text/plain": [
       "  subject_id           timestamp  \\\n",
       "0       id01 2024-06-26 13:00:10   \n",
       "1       id01 2024-06-26 13:02:10   \n",
       "2       id01 2024-06-26 13:04:10   \n",
       "3       id01 2024-06-26 13:06:10   \n",
       "4       id01 2024-06-26 13:08:10   \n",
       "\n",
       "                                          m_ambience  \n",
       "0  [[Music, 0.30902618], [Vehicle, 0.081680894], ...  \n",
       "1  [[Music, 0.62307084], [Vehicle, 0.021118319], ...  \n",
       "2  [[Horse, 0.25209898], [Animal, 0.24263993], [C...  \n",
       "3  [[Speech, 0.93433166], [Inside, large room or ...  \n",
       "4  [[Speech, 0.8935082], [Inside, small room, 0.0...  "
      ]
     },
     "execution_count": 8,
     "metadata": {},
     "output_type": "execute_result"
    }
   ],
   "source": [
    "df = lifelog_data['mAmbience']\n",
    "df.info()\n",
    "df.head()"
   ]
  },
  {
   "cell_type": "code",
   "execution_count": null,
   "id": "eb40b7dd",
   "metadata": {},
   "outputs": [],
   "source": []
  }
 ],
 "metadata": {
  "kernelspec": {
   "display_name": "dacon",
   "language": "python",
   "name": "python3"
  },
  "language_info": {
   "codemirror_mode": {
    "name": "ipython",
    "version": 3
   },
   "file_extension": ".py",
   "mimetype": "text/x-python",
   "name": "python",
   "nbconvert_exporter": "python",
   "pygments_lexer": "ipython3",
   "version": "3.11.11"
  }
 },
 "nbformat": 4,
 "nbformat_minor": 5
}
