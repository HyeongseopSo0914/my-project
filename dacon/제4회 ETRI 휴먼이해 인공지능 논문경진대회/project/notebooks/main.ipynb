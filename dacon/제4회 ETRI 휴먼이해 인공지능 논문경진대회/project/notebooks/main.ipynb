{
 "cells": [
  {
   "cell_type": "code",
   "execution_count": null,
   "id": "ddfbb08c",
   "metadata": {},
   "outputs": [
    {
     "name": "stdout",
     "output_type": "stream",
     "text": [
      "총 parquet 파일 수: 12\n",
      "[1/12] 로딩 중: mACStatus\n",
      "✅ mACStatus shape: (939896, 3)\n",
      "[2/12] 로딩 중: mActivity\n",
      "✅ mActivity shape: (961062, 3)\n",
      "[3/12] 로딩 중: mAmbience\n",
      "✅ mAmbience shape: (476577, 3)\n",
      "[4/12] 로딩 중: mBle\n",
      "✅ mBle shape: (21830, 3)\n",
      "[5/12] 로딩 중: mGps\n",
      "✅ mGps shape: (800611, 3)\n",
      "[6/12] 로딩 중: mLight\n",
      "✅ mLight shape: (96258, 3)\n",
      "[7/12] 로딩 중: mScreenStatus\n",
      "✅ mScreenStatus shape: (939653, 3)\n",
      "[8/12] 로딩 중: mUsageStats\n",
      "✅ mUsageStats shape: (45197, 3)\n",
      "[9/12] 로딩 중: mWifi\n",
      "✅ mWifi shape: (76336, 3)\n",
      "[10/12] 로딩 중: wHr\n",
      "✅ wHr shape: (382918, 3)\n",
      "[11/12] 로딩 중: wLight\n",
      "✅ wLight shape: (633741, 3)\n",
      "[12/12] 로딩 중: wPedo\n",
      "✅ wPedo shape: (748100, 9)\n",
      "✅ 전체 처리 완료\n"
     ]
    }
   ],
   "source": [
    "import os\n",
    "import glob\n",
    "import pandas as pd\n",
    "\n",
    "BASE_PATH = 'data/ETRI/ETRI_lifelog_dataset/ch2025_data_items'\n",
    "SAVE_CSV = False  # True로 설정하면 CSV 저장됨\n",
    "SAVE_DIR = 'analysis_results'\n",
    "\n",
    "# 📂 parquet 파일 목록 확인\n",
    "parquet_files = glob.glob(os.path.join(BASE_PATH, 'ch2025_*.parquet'))\n",
    "print(f\"총 parquet 파일 수: {len(parquet_files)}\")\n",
    "\n",
    "lifelog_data = {}\n",
    "\n",
    "for i, file_path in enumerate(parquet_files):\n",
    "    key = os.path.basename(file_path).replace('.parquet', '').replace('ch2025_', '')\n",
    "    print(f\"[{i+1}/{len(parquet_files)}] 로딩 중: {key}\")\n",
    "    \n",
    "    try:\n",
    "        df = pd.read_parquet(file_path)\n",
    "        lifelog_data[key] = df\n",
    "        print(f\"✅ {key} shape: {df.shape}\")\n",
    "    except Exception as e:\n",
    "        print(f\"❌ {key} 에러 발생: {e}\")\n",
    "\n",
    "print(\"✅ 전체 처리 완료\")"
   ]
  },
  {
   "cell_type": "code",
   "execution_count": null,
   "id": "450400ce",
   "metadata": {},
   "outputs": [
    {
     "name": "stdout",
     "output_type": "stream",
     "text": [
      "wPedo describe 컬럼 수: 11\n"
     ]
    }
   ],
   "source": [
    "df = lifelog_data['mAmbience']"
   ]
  },
  {
   "cell_type": "code",
   "execution_count": null,
   "id": "eb40b7dd",
   "metadata": {},
   "outputs": [],
   "source": []
  }
 ],
 "metadata": {
  "kernelspec": {
   "display_name": "dacon",
   "language": "python",
   "name": "python3"
  },
  "language_info": {
   "codemirror_mode": {
    "name": "ipython",
    "version": 3
   },
   "file_extension": ".py",
   "mimetype": "text/x-python",
   "name": "python",
   "nbconvert_exporter": "python",
   "pygments_lexer": "ipython3",
   "version": "3.11.11"
  }
 },
 "nbformat": 4,
 "nbformat_minor": 5
}
