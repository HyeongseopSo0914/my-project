{
 "cells": [
  {
   "cell_type": "code",
   "execution_count": 1,
   "metadata": {
    "_cell_guid": "b1076dfc-b9ad-4769-8c92-a6c4dae69d19",
    "_uuid": "8f2839f25d086af736a60e9eeb907d3b93b6e0e5",
    "execution": {
     "iopub.execute_input": "2025-04-30T02:18:27.077032Z",
     "iopub.status.busy": "2025-04-30T02:18:27.076215Z",
     "iopub.status.idle": "2025-04-30T02:18:27.081206Z",
     "shell.execute_reply": "2025-04-30T02:18:27.080383Z",
     "shell.execute_reply.started": "2025-04-30T02:18:27.077010Z"
    },
    "trusted": true
   },
   "outputs": [],
   "source": [
    "import numpy as np\n",
    "import pandas as pd\n",
    "import random\n",
    "import torch\n",
    "from pytorch_tabnet.tab_model import TabNetRegressor\n",
    "from sklearn.model_selection import KFold\n",
    "from sklearn.preprocessing import LabelEncoder\n",
    "from sklearn.ensemble import GradientBoostingRegressor\n",
    "import lightgbm as lgb\n",
    "import warnings\n",
    "warnings.filterwarnings('ignore')\n",
    "import os"
   ]
  },
  {
   "cell_type": "code",
   "execution_count": 2,
   "metadata": {
    "execution": {
     "iopub.execute_input": "2025-04-30T02:18:28.932401Z",
     "iopub.status.busy": "2025-04-30T02:18:28.932129Z",
     "iopub.status.idle": "2025-04-30T02:18:28.954603Z",
     "shell.execute_reply": "2025-04-30T02:18:28.953914Z",
     "shell.execute_reply.started": "2025-04-30T02:18:28.932385Z"
    },
    "trusted": true
   },
   "outputs": [],
   "source": [
    "# GPU 사용 설정 (Kaggle 환경에서 GPU 사용 시)\n",
    "device = torch.device('cuda' if torch.cuda.is_available() else 'cpu')\n",
    "\n",
    "# Seed 설정\n",
    "SEED = 42\n",
    "np.random.seed(SEED)\n",
    "random.seed(SEED)\n",
    "torch.manual_seed(SEED)\n",
    "\n",
    "# 데이터 불러오기 (Kaggle 경로)\n",
    "#data_path = \"/kaggle/input/dataset-enterprise\"\n",
    "#train = pd.read_csv(f\"{data_path}/train.csv\")\n",
    "#test = pd.read_csv(f\"{data_path}/test.csv\")\n",
    "#train = pd.read_csv(f\"{data_path}/train.csv\")\n",
    "#test = pd.read_csv(f\"{data_path}/test.csv\")\n",
    "#sample_submission = pd.read_csv(f\"{data_path}/sample_submission.csv\")\n",
    "\n",
    "train = pd.read_csv(\"train.csv\")\n",
    "test = pd.read_csv(\"test.csv\")\n",
    "sample_submission = pd.read_csv(\"sample_submission.csv\")"
   ]
  },
  {
   "cell_type": "code",
   "execution_count": 3,
   "metadata": {
    "execution": {
     "iopub.execute_input": "2025-04-30T02:18:30.876962Z",
     "iopub.status.busy": "2025-04-30T02:18:30.876406Z",
     "iopub.status.idle": "2025-04-30T02:18:30.883178Z",
     "shell.execute_reply": "2025-04-30T02:18:30.882516Z",
     "shell.execute_reply.started": "2025-04-30T02:18:30.876941Z"
    },
    "trusted": true
   },
   "outputs": [],
   "source": [
    "train = train.drop(columns=['ID'], axis=1)\n",
    "test = test.drop(columns=['ID'], axis=1)"
   ]
  },
  {
   "cell_type": "code",
   "execution_count": 4,
   "metadata": {
    "execution": {
     "iopub.execute_input": "2025-04-30T02:18:32.164704Z",
     "iopub.status.busy": "2025-04-30T02:18:32.164008Z",
     "iopub.status.idle": "2025-04-30T02:18:32.169620Z",
     "shell.execute_reply": "2025-04-30T02:18:32.168791Z",
     "shell.execute_reply.started": "2025-04-30T02:18:32.164682Z"
    },
    "trusted": true
   },
   "outputs": [],
   "source": [
    "#기업가치 구간화\n",
    "def parse_value(x):\n",
    "    if pd.isnull(x): return 0\n",
    "    elif '6000' in str(x): return 6\n",
    "    elif '4500' in str(x): return 5\n",
    "    elif '3500' in str(x): return 4\n",
    "    elif '2500' in str(x): return 3\n",
    "    elif '1500' in str(x): return 2\n",
    "    else: return 1\n",
    "\n",
    "#라벨 NaN값 처리\n",
    "def fit_label_encoder(train_series, test_series):\n",
    "    train_series = train_series.fillna('Missing').astype(str)\n",
    "    test_series = test_series.fillna('Missing').astype(str)\n",
    "\n",
    "    le = LabelEncoder()\n",
    "    full_data = pd.concat([train_series, test_series])\n",
    "    le.fit(full_data)\n",
    "\n",
    "    return le, le.transform(train_series), le.transform(test_series)"
   ]
  },
  {
   "cell_type": "code",
   "execution_count": 5,
   "metadata": {
    "execution": {
     "iopub.execute_input": "2025-04-30T02:18:34.301240Z",
     "iopub.status.busy": "2025-04-30T02:18:34.300962Z",
     "iopub.status.idle": "2025-04-30T02:18:34.659386Z",
     "shell.execute_reply": "2025-04-30T02:18:34.658481Z",
     "shell.execute_reply.started": "2025-04-30T02:18:34.301222Z"
    },
    "trusted": true
   },
   "outputs": [],
   "source": [
    "# 설립년도 현재기준으로 나이로 변환\n",
    "CURRENT_YEAR = 2025\n",
    "train['나이'] = CURRENT_YEAR - train['설립연도']\n",
    "test['나이'] = CURRENT_YEAR - test['설립연도']\n",
    "\n",
    "# # 수치형 결측치 처리\n",
    "# numeric_features = ['직원 수','고객수(백만명)','총 투자금(억원)','연매출(억원)','SNS 팔로워 수(백만명)']\n",
    "# for feature in numeric_features:\n",
    "#     mean_value = train[feature].mean()\n",
    "#     train[feature] = train[feature].fillna(mean_value)\n",
    "#     test[feature] = test[feature].fillna(mean_value)\n",
    "\n",
    "# 1. KNNImputer 적용 (수치형에만)\n",
    "from sklearn.impute import KNNImputer\n",
    "numeric_cols = train.select_dtypes(include=[np.number]).columns.tolist()\n",
    "numeric_cols.remove('성공확률')  # 타겟 제외\n",
    "\n",
    "imputer = KNNImputer(n_neighbors=5)\n",
    "train_num = pd.DataFrame(imputer.fit_transform(train[numeric_cols]), columns=numeric_cols)\n",
    "test_num = pd.DataFrame(imputer.transform(test[numeric_cols]), columns=numeric_cols)\n",
    "\n",
    "# 기존 범주형/문자형 컬럼만 유지해서 따로 저장\n",
    "train_cat = train.drop(columns=numeric_cols + ['성공확률'])\n",
    "test_cat = test.drop(columns=numeric_cols)\n",
    "\n",
    "# 수치형/범주형 다시 합치기\n",
    "train = pd.concat([train_cat.reset_index(drop=True), train_num.reset_index(drop=True), train['성공확률'].reset_index(drop=True)], axis=1)\n",
    "test = pd.concat([test_cat.reset_index(drop=True), test_num.reset_index(drop=True)], axis=1)\n",
    "\n",
    "\n",
    "# 라벨 인코딩\n",
    "le_country, train['국가'], test['국가'] = fit_label_encoder(train['국가'], test['국가'])\n",
    "le_field, train['분야'], test['분야'] = fit_label_encoder(train['분야'], test['분야'])\n",
    "\n",
    "# 범주형 매핑\n",
    "stage_mapping = {'Seed': 0, 'Series A': 1, 'Series B': 2, 'Series C': 3, 'IPO': 4}\n",
    "train['투자단계'] = train['투자단계'].map(stage_mapping).fillna(0)\n",
    "test['투자단계'] = test['투자단계'].map(stage_mapping).fillna(0)\n",
    "\n",
    "# 기업가치 구간화\n",
    "\n",
    "train['기업가치_클래스'] = train['기업가치(백억원)'].apply(parse_value)\n",
    "test['기업가치_클래스'] = test['기업가치(백억원)'].apply(parse_value)\n",
    "\n",
    "# 연매출 이상치 로그화로 최소화\n",
    "train['log_연매출'] = np.log1p(train['연매출(억원)'])\n",
    "train['log_투자금'] = np.log1p(train['총 투자금(억원)'])\n",
    "test['log_연매출'] = np.log1p(test['연매출(억원)'])\n",
    "test['log_투자금'] = np.log1p(test['총 투자금(억원)'])\n",
    "\n",
    "# xx여부 불리언 매핑\n",
    "bool_map = {'Yes': 1, 'No': 0}\n",
    "for feature in ['인수여부', '상장여부']:\n",
    "    train[feature] = train[feature].map(bool_map).fillna(0)\n",
    "    test[feature] = test[feature].map(bool_map).fillna(0)\n",
    "\n",
    "# SNS 구간화\n",
    "def sns_bin(x):\n",
    "    if pd.isna(x): return 0\n",
    "    if x < 1: return 0\n",
    "    elif x < 3: return 1\n",
    "    elif x < 5: return 2\n",
    "    else: return 3\n",
    "train['SNS팔로워구간'] = train['SNS 팔로워 수(백만명)'].apply(sns_bin)\n",
    "test['SNS팔로워구간'] = test['SNS 팔로워 수(백만명)'].apply(sns_bin)\n"
   ]
  },
  {
   "cell_type": "code",
   "execution_count": 6,
   "metadata": {
    "execution": {
     "iopub.execute_input": "2025-04-30T02:18:40.468687Z",
     "iopub.status.busy": "2025-04-30T02:18:40.468399Z",
     "iopub.status.idle": "2025-04-30T02:18:40.485649Z",
     "shell.execute_reply": "2025-04-30T02:18:40.484999Z",
     "shell.execute_reply.started": "2025-04-30T02:18:40.468670Z"
    },
    "trusted": true
   },
   "outputs": [],
   "source": [
    "# 파생변수 추가\n",
    "train['투자대비매출'] = train['log_연매출'] / (train['log_투자금'] + 1)\n",
    "test['투자대비매출'] = test['log_연매출'] / (test['log_투자금'] + 1)\n",
    "\n",
    "train['직원당투자금'] = train['log_투자금'] / (train['직원 수'] + 1)\n",
    "test['직원당투자금'] = test['log_투자금'] / (test['직원 수'] + 1)\n",
    "\n",
    "train['고객당매출'] = train['log_연매출'] / (train['고객수(백만명)'] + 1)\n",
    "test['고객당매출'] = test['log_연매출'] / (test['고객수(백만명)'] + 1)\n",
    "\n",
    "train['기업가치대비매출'] = train['log_연매출'] / (train['기업가치_클래스'] + 1)\n",
    "test['기업가치대비매출'] = test['log_연매출'] / (test['기업가치_클래스'] + 1)\n",
    "\n",
    "train['설립후투자'] = train['log_투자금'] / (train['나이'] + 1)\n",
    "test['설립후투자'] = test['log_투자금'] / (test['나이'] + 1)\n",
    "\n",
    "train['가치대비단계'] = train['기업가치_클래스'] / (train['투자단계'] + 1)\n",
    "test['가치대비단계'] = test['기업가치_클래스'] / (test['투자단계'] + 1)\n",
    "\n",
    "train['설립기간매출'] = train['log_연매출'] / (train['나이'] + 1)\n",
    "test['설립기간매출'] = test['log_연매출'] / (test['나이'] + 1)\n",
    "\n",
    "train['설립기간고객'] = train['고객수(백만명)'] / (train['나이'] + 1)\n",
    "test['설립기간고객'] = test['고객수(백만명)'] / (test['나이'] + 1)\n",
    "\n",
    "train['SNS대비투자'] = train['SNS 팔로워 수(백만명)'] / (train['log_투자금'] + 1)\n",
    "test['SNS대비투자'] = test['SNS 팔로워 수(백만명)'] / (test['log_투자금'] + 1)"
   ]
  },
  {
   "cell_type": "code",
   "execution_count": 7,
   "metadata": {
    "execution": {
     "iopub.execute_input": "2025-04-30T02:18:43.452798Z",
     "iopub.status.busy": "2025-04-30T02:18:43.452172Z",
     "iopub.status.idle": "2025-04-30T02:18:43.458153Z",
     "shell.execute_reply": "2025-04-30T02:18:43.457283Z",
     "shell.execute_reply.started": "2025-04-30T02:18:43.452779Z"
    },
    "trusted": true
   },
   "outputs": [],
   "source": [
    "features = [\n",
    "    '나이', '국가', '분야', '투자단계', '직원 수', '고객수(백만명)', '총 투자금(억원)', '연매출(억원)',\n",
    "    'SNS팔로워구간', '기업가치_클래스', '인수여부', '상장여부', \n",
    "    '투자대비매출', '직원당투자금', '고객당매출',\n",
    "    '기업가치대비매출', '설립후투자',\n",
    "    '가치대비단계', '설립기간매출', '설립기간고객', 'SNS대비투자'\n",
    "]\n",
    "\n",
    "cat_features = ['국가', '분야', '투자단계']\n",
    "cat_idxs = [features.index(col) for col in cat_features]\n",
    "cat_dims = [\n",
    "    len(le_country.classes_),\n",
    "    len(le_field.classes_),\n",
    "    train['투자단계'].nunique()  # 또는 len(train['투자단계'].unique())로도 OK\n",
    "]"
   ]
  },
  {
   "cell_type": "code",
   "execution_count": 8,
   "metadata": {
    "execution": {
     "iopub.execute_input": "2025-04-30T02:18:45.366830Z",
     "iopub.status.busy": "2025-04-30T02:18:45.366559Z",
     "iopub.status.idle": "2025-04-30T02:19:32.937696Z",
     "shell.execute_reply": "2025-04-30T02:19:32.936930Z",
     "shell.execute_reply.started": "2025-04-30T02:18:45.366814Z"
    },
    "trusted": true
   },
   "outputs": [
    {
     "name": "stdout",
     "output_type": "stream",
     "text": [
      "Fold 1\n",
      "Fold 1 MAE: 0.1983\n",
      "Fold 2\n",
      "Fold 2 MAE: 0.2039\n",
      "Fold 3\n",
      "Fold 3 MAE: 0.1990\n",
      "Fold 4\n",
      "Fold 4 MAE: 0.2024\n",
      "Fold 5\n",
      "Fold 5 MAE: 0.2013\n",
      "\n",
      "Average MAE across folds: 0.20097\n"
     ]
    }
   ],
   "source": [
    "# # 모델 훈련\n",
    "# X = train[features].values\n",
    "# y = train['성공확률'].values.reshape(-1, 1)\n",
    "# X_test = test[features].values\n",
    "\n",
    "# # TabNet 모델 훈련 (GPU 사용)\n",
    "# from sklearn.metrics import mean_absolute_error\n",
    "# kf = KFold(n_splits=5, shuffle=True, random_state=SEED)\n",
    "# cv_scores = []\n",
    "# tabnet_preds = []\n",
    "\n",
    "# for train_idx, valid_idx in kf.split(X):\n",
    "#     model = TabNetRegressor(\n",
    "#     n_d=32, n_a=32, n_steps=5, gamma=1.5, seed=SEED+10,\n",
    "#     cat_idxs=cat_idxs,\n",
    "#     cat_dims=cat_dims,\n",
    "#     device_name=device\n",
    "#     )\n",
    "#     model.fit(\n",
    "#         X[train_idx], y[train_idx],\n",
    "#         eval_set=[(X[valid_idx], y[valid_idx])],\n",
    "#         max_epochs=200,\n",
    "#         patience=10,\n",
    "#         batch_size=512,\n",
    "#         virtual_batch_size=128,\n",
    "#         eval_metric=['mae'],\n",
    "#         #verbose=0\n",
    "#     )\n",
    "#     val_preds = model.predict(X[valid_idx]).ravel()\n",
    "#     fold_mae = mean_absolute_error(y[valid_idx].ravel(), val_preds)\n",
    "#     cv_scores.append(fold_mae)\n",
    "#     tabnet_preds.append(model.predict(X_test))\n",
    "        \n",
    "#     # LightGBM\n",
    "#     lgb_model = lgb.LGBMRegressor(random_state=SEED)\n",
    "#     lgb_model.fit(X, y.ravel())\n",
    "#     lgb_preds = lgb_model.predict(X_test)\n",
    "\n",
    "#     # GradientBoosting\n",
    "#     gbr = GradientBoostingRegressor(random_state=SEED)\n",
    "#     gbr.fit(X, y.ravel())\n",
    "#     gbr_preds = gbr.predict(X_test)\n",
    "\n",
    "# tabnet_final = np.mean(tabnet_preds, axis=0)\n",
    "# lgb_final = np.mean(lgb_preds, axis=0)\n",
    "# gbr_final = np.mean(gbr_preds, axis=0)\n",
    "\n",
    "# # 앙상블\n",
    "# final_preds = (tabnet_final.ravel() + lgb_preds + gbr_preds) / 3\n",
    "# estimated_lb_score = np.mean(np.abs(final_preds - y.mean()))\n",
    "from sklearn.metrics import mean_absolute_error\n",
    "from xgboost import XGBRegressor\n",
    "# 데이터 준비\n",
    "X = train[features]\n",
    "y = train['성공확률']\n",
    "X_test = test[features]\n",
    "# KFold 설정\n",
    "kf = KFold(n_splits=5, shuffle=True, random_state=42)\n",
    "\n",
    "cv_scores = []\n",
    "models = []\n",
    "test_preds = []\n",
    "\n",
    "for fold, (train_idx, valid_idx) in enumerate(kf.split(X)):\n",
    "    print(f\"Fold {fold+1}\")\n",
    "\n",
    "    X_tr, y_tr = X.iloc[train_idx], y.iloc[train_idx]\n",
    "    X_val, y_val = X.iloc[valid_idx], y.iloc[valid_idx]\n",
    "\n",
    "    model = XGBRegressor(\n",
    "        n_estimators=500,\n",
    "        learning_rate=0.03,\n",
    "        max_depth=15,\n",
    "        subsample=0.8,\n",
    "        colsample_bytree=0.8,\n",
    "        random_state=42,\n",
    "        n_jobs=-1\n",
    "    )\n",
    "\n",
    "    model.fit(X_tr, y_tr)\n",
    "\n",
    "    y_pred = model.predict(X_val)\n",
    "    mae = mean_absolute_error(y_val, y_pred)\n",
    "    cv_scores.append(mae)\n",
    "    models.append(model)\n",
    "\n",
    "    # 테스트셋 예측 저장 (optional)\n",
    "    test_preds.append(model.predict(X_test))\n",
    "    print(f\"Fold {fold+1} MAE: {mae:.4f}\")\n",
    "\n",
    "print(f\"\\nAverage MAE across folds: {np.mean(cv_scores):.5f}\")\n",
    "\n",
    "# 테스트 예측 평균 (optional)\n",
    "final_test_pred = np.mean(test_preds, axis=0)\n",
    "\n"
   ]
  },
  {
   "cell_type": "markdown",
   "metadata": {},
   "source": []
  },
  {
   "cell_type": "code",
   "execution_count": 9,
   "metadata": {
    "execution": {
     "iopub.execute_input": "2025-04-30T02:22:32.147399Z",
     "iopub.status.busy": "2025-04-30T02:22:32.147074Z",
     "iopub.status.idle": "2025-04-30T02:22:32.638501Z",
     "shell.execute_reply": "2025-04-30T02:22:32.637794Z",
     "shell.execute_reply.started": "2025-04-30T02:22:32.147376Z"
    },
    "trusted": true
   },
   "outputs": [
    {
     "name": "stdout",
     "output_type": "stream",
     "text": [
      "\n",
      "✅ Test 예측 완료 (KFold 모델 평균)\n",
      "[0.43859199 0.40541095 0.49849948 0.54708462 0.59658341 0.51183765\n",
      " 0.48200919 0.63000601 0.58171056 0.54596663]\n"
     ]
    }
   ],
   "source": [
    "test_preds = np.zeros(len(X_test))\n",
    "\n",
    "for model in models:\n",
    "    test_preds += model.predict(X_test) / kf.get_n_splits()\n",
    "\n",
    "final_preds = test_preds\n",
    "\n",
    "print(\"\\n✅ Test 예측 완료 (KFold 모델 평균)\")\n",
    "print(final_preds[:10])"
   ]
  },
  {
   "cell_type": "code",
   "execution_count": 10,
   "metadata": {
    "execution": {
     "iopub.execute_input": "2025-04-30T02:23:27.285671Z",
     "iopub.status.busy": "2025-04-30T02:23:27.284801Z",
     "iopub.status.idle": "2025-04-30T02:23:27.312123Z",
     "shell.execute_reply": "2025-04-30T02:23:27.311113Z",
     "shell.execute_reply.started": "2025-04-30T02:23:27.285650Z"
    },
    "trusted": true
   },
   "outputs": [
    {
     "name": "stdout",
     "output_type": "stream",
     "text": [
      "✅ 제출 파일 저장 완료: submission_xgb_kfold.csv\n"
     ]
    },
    {
     "data": {
      "text/html": [
       "<div>\n",
       "<style scoped>\n",
       "    .dataframe tbody tr th:only-of-type {\n",
       "        vertical-align: middle;\n",
       "    }\n",
       "\n",
       "    .dataframe tbody tr th {\n",
       "        vertical-align: top;\n",
       "    }\n",
       "\n",
       "    .dataframe thead th {\n",
       "        text-align: right;\n",
       "    }\n",
       "</style>\n",
       "<table border=\"1\" class=\"dataframe\">\n",
       "  <thead>\n",
       "    <tr style=\"text-align: right;\">\n",
       "      <th></th>\n",
       "      <th>ID</th>\n",
       "      <th>성공확률</th>\n",
       "    </tr>\n",
       "  </thead>\n",
       "  <tbody>\n",
       "    <tr>\n",
       "      <th>0</th>\n",
       "      <td>TEST_0000</td>\n",
       "      <td>0.438592</td>\n",
       "    </tr>\n",
       "    <tr>\n",
       "      <th>1</th>\n",
       "      <td>TEST_0001</td>\n",
       "      <td>0.405411</td>\n",
       "    </tr>\n",
       "    <tr>\n",
       "      <th>2</th>\n",
       "      <td>TEST_0002</td>\n",
       "      <td>0.498499</td>\n",
       "    </tr>\n",
       "    <tr>\n",
       "      <th>3</th>\n",
       "      <td>TEST_0003</td>\n",
       "      <td>0.547085</td>\n",
       "    </tr>\n",
       "    <tr>\n",
       "      <th>4</th>\n",
       "      <td>TEST_0004</td>\n",
       "      <td>0.596583</td>\n",
       "    </tr>\n",
       "  </tbody>\n",
       "</table>\n",
       "</div>"
      ],
      "text/plain": [
       "          ID      성공확률\n",
       "0  TEST_0000  0.438592\n",
       "1  TEST_0001  0.405411\n",
       "2  TEST_0002  0.498499\n",
       "3  TEST_0003  0.547085\n",
       "4  TEST_0004  0.596583"
      ]
     },
     "execution_count": 10,
     "metadata": {},
     "output_type": "execute_result"
    }
   ],
   "source": [
    "assert len(test) == len(final_preds), \"예측값과 테스트셋 길이가 일치하지 않습니다.\"\n",
    "\n",
    "sample_submission['성공확률'] = final_preds\n",
    "sample_submission.to_csv('./submission_xgb_kfold.csv', index=False)\n",
    "\n",
    "print(\"✅ 제출 파일 저장 완료: submission_xgb_kfold.csv\")\n",
    "sample_submission.head()"
   ]
  },
  {
   "cell_type": "code",
   "execution_count": null,
   "metadata": {
    "trusted": true
   },
   "outputs": [],
   "source": []
  }
 ],
 "metadata": {
  "kaggle": {
   "accelerator": "none",
   "dataSources": [
    {
     "datasetId": 7289235,
     "sourceId": 11619342,
     "sourceType": "datasetVersion"
    }
   ],
   "isGpuEnabled": false,
   "isInternetEnabled": true,
   "language": "python",
   "sourceType": "notebook"
  },
  "kernelspec": {
   "display_name": "dacon",
   "language": "python",
   "name": "python3"
  },
  "language_info": {
   "codemirror_mode": {
    "name": "ipython",
    "version": 3
   },
   "file_extension": ".py",
   "mimetype": "text/x-python",
   "name": "python",
   "nbconvert_exporter": "python",
   "pygments_lexer": "ipython3",
   "version": "3.11.11"
  }
 },
 "nbformat": 4,
 "nbformat_minor": 4
}
